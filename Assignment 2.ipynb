{
 "cells": [
  {
   "cell_type": "markdown",
   "id": "8b182e28-9fa4-4551-84eb-a41a68251fe4",
   "metadata": {},
   "source": [
    "1. Write a program to accept percentage from the user and display the grade according to the following  :                 \n",
    "\n",
    "criteria: \n",
    "             Marks                   Grade             \n",
    "             >=90                      A                                      \n",
    "          >80 and <=90                 B             \n",
    "          >=60 and <=80                C                                         \n",
    "          below 60                     D                                "
   ]
  },
  {
   "cell_type": "code",
   "execution_count": 1,
   "id": "13acc074-4cfc-40fd-aac3-e46af25ce2c9",
   "metadata": {},
   "outputs": [
    {
     "name": "stdin",
     "output_type": "stream",
     "text": [
      "Enter your percentage 34\n"
     ]
    },
    {
     "name": "stdout",
     "output_type": "stream",
     "text": [
      "Your grade is D\n"
     ]
    }
   ],
   "source": [
    "percentage = float(input(\"Enter your percentage\"))\n",
    "\n",
    "if percentage >= 90 :\n",
    "    print(\"Your grade is A\")\n",
    "elif percentage >80 and percentage <= 90 :\n",
    "    print(\"Your grade is B\")\n",
    "elif percentage >= 60 and percentage <= 80:\n",
    "    print(\"Your grade is C\")\n",
    "else:\n",
    "    print(\"Your grade is D\")\n",
    "\n",
    "             "
   ]
  },
  {
   "cell_type": "markdown",
   "id": "6b98bd75-079d-4fbe-afa1-433a7d1868a9",
   "metadata": {},
   "source": [
    "2. Write a program to accept the cost price of a bike and display the road tax to be paid according to the following criteria:\n",
    "\n",
    "Tax                                 Cost Price(in Rs)\n",
    "\n",
    "15%                               >10000         \n",
    "         \n",
    "10%                              >50000 and <= 100000\n",
    "\n",
    "5%                               <= 50000     \n",
    "    \n",
    "\n"
   ]
  },
  {
   "cell_type": "code",
   "execution_count": 2,
   "id": "d6ddefb2-70f6-40b6-bb2d-c3dc562012f7",
   "metadata": {},
   "outputs": [
    {
     "name": "stdin",
     "output_type": "stream",
     "text": [
      "Enter the cost price of bike 564784\n"
     ]
    },
    {
     "name": "stdout",
     "output_type": "stream",
     "text": [
      "You have to pay 15% road tax\n"
     ]
    }
   ],
   "source": [
    "cost_price = int(input(\"Enter the cost price of bike\"))\n",
    "if cost_price > 100000:\n",
    "    print(\"You have to pay 15% road tax\")\n",
    "elif cost_price > 50000 and cost_price <= 100000:\n",
    "    print(\"You have to pay 10% road tax\")\n",
    "else:\n",
    "    print(\"You have to pay 5 % road tax\")"
   ]
  },
  {
   "cell_type": "markdown",
   "id": "de779f97-3c68-4c0c-8c3e-fc21b9c71684",
   "metadata": {},
   "source": [
    "3. Accept any city from the user and display monuments of that city.\n",
    "\n",
    "City                       :                                Monument\n",
    "\n",
    "Delhi                     :                               Red Fort\n",
    "\n",
    "Agra                       :                              Taj Mahal\n",
    "\n",
    "Jaipur                    :                                Jal Mahal\n"
   ]
  },
  {
   "cell_type": "code",
   "execution_count": 3,
   "id": "ce00b81e-47d2-4742-8ee6-56412b464abc",
   "metadata": {},
   "outputs": [
    {
     "name": "stdin",
     "output_type": "stream",
     "text": [
      "Enter city of which you want to see monument Delhi\n"
     ]
    },
    {
     "name": "stdout",
     "output_type": "stream",
     "text": [
      "Red Fort\n"
     ]
    }
   ],
   "source": [
    "city = input(\"Enter city of which you want to see monument\")\n",
    "if city == \"Delhi\":\n",
    "    print(\"Red Fort\")\n",
    "elif city == \"Agra\":\n",
    "    print(\"Taj Mahal\")\n",
    "else:\n",
    "    print(\"Jal Mahal\")"
   ]
  },
  {
   "cell_type": "markdown",
   "id": "46fc0542-b6c5-4066-818f-85b1172fa3e6",
   "metadata": {},
   "source": [
    "4. Check how many times a given number can be divided by 3 before it is less than or equal to 10."
   ]
  },
  {
   "cell_type": "code",
   "execution_count": 1,
   "id": "a015d35c-ac47-4fe8-8a2d-7c394da434c8",
   "metadata": {},
   "outputs": [
    {
     "name": "stdin",
     "output_type": "stream",
     "text": [
      "Enter a number 56\n"
     ]
    },
    {
     "name": "stdout",
     "output_type": "stream",
     "text": [
      "The number of times the given number can be divided by 3 before it is less than or equal to 10 is  2\n"
     ]
    }
   ],
   "source": [
    "num = int(input(\"Enter a number\"))\n",
    "count = 0\n",
    "while num > 10:\n",
    "    if num/3 > 1:\n",
    "      num = num/3\n",
    "      count += 1\n",
    "        \n",
    "print(\"The number of times the given number can be divided by 3 before it is less than or equal to 10 is \",count)"
   ]
  },
  {
   "cell_type": "markdown",
   "id": "f8d9adea-e265-49db-872f-eb99ea144a8b",
   "metadata": {},
   "source": [
    "5. Why and When to use while Loop in Python give a detailed description with example\n"
   ]
  },
  {
   "cell_type": "code",
   "execution_count": 3,
   "id": "30ad094b-3cc9-438e-8c6b-7be310bd0fe9",
   "metadata": {},
   "outputs": [
    {
     "name": "stdin",
     "output_type": "stream",
     "text": [
      "Enter the name 7888\n"
     ]
    },
    {
     "name": "stdout",
     "output_type": "stream",
     "text": [
      "name cannot be an integer\n"
     ]
    },
    {
     "name": "stdin",
     "output_type": "stream",
     "text": [
      "Enter the name tiger\n"
     ]
    },
    {
     "name": "stdout",
     "output_type": "stream",
     "text": [
      "name : tiger\n"
     ]
    }
   ],
   "source": [
    "# we use while loop when we know the stopping point but we dont know number of iterations\n",
    "\n",
    "while True:\n",
    "    name = input(\"Enter the name\")\n",
    "    if name.isalpha():\n",
    "        print(\"name :\",name)\n",
    "        break\n",
    "    else:\n",
    "        print(\"name cannot be an integer\")\n",
    "        continue\n",
    "        \n",
    "# here we only knew stopping condition i.e if name is alphabet stop the loop so in these type of cases we use while loop"
   ]
  },
  {
   "cell_type": "markdown",
   "id": "9bc3609b-440a-4136-9be9-26189acb5744",
   "metadata": {},
   "source": [
    "6. Use nested while loop to print 3 different pattern"
   ]
  },
  {
   "cell_type": "code",
   "execution_count": 11,
   "id": "6e0f6f48-f80c-473a-b13e-d5c5ab16b762",
   "metadata": {},
   "outputs": [
    {
     "name": "stdin",
     "output_type": "stream",
     "text": [
      "Enter a number 6\n"
     ]
    },
    {
     "name": "stdout",
     "output_type": "stream",
     "text": [
      "* \n",
      "** ** \n",
      "*** *** *** \n",
      "**** **** **** **** \n",
      "***** ***** ***** ***** ***** \n",
      "****** ****** ****** ****** ****** ****** \n"
     ]
    }
   ],
   "source": [
    "# First pattern\n",
    "n = int(input(\"Enter a number\"))\n",
    "i= 1\n",
    "while i  <= n:\n",
    "    j= 1\n",
    "    while j <= i:\n",
    "        print(\"*\" * i,end=\" \")\n",
    "        j = j + 1\n",
    "    print()\n",
    "    i = i +1"
   ]
  },
  {
   "cell_type": "code",
   "execution_count": 14,
   "id": "01a64214-c2cc-4b22-ad48-1c7a36d71c50",
   "metadata": {},
   "outputs": [
    {
     "name": "stdin",
     "output_type": "stream",
     "text": [
      "Enter a number 7\n"
     ]
    },
    {
     "name": "stdout",
     "output_type": "stream",
     "text": [
      "* \n",
      "* * \n",
      "* * * \n",
      "* * * * \n",
      "* * * * * \n",
      "* * * * * * \n",
      "* * * * * * * \n"
     ]
    }
   ],
   "source": [
    "# second pattern\n",
    "n = int(input(\"Enter a number\"))\n",
    "i= 1\n",
    "while i  <= n:\n",
    "    j= 1\n",
    "    while j <= i:\n",
    "        print(\"*\" ,end=\" \")\n",
    "        j = j + 1\n",
    "    print()\n",
    "    i = i +1"
   ]
  },
  {
   "cell_type": "code",
   "execution_count": 15,
   "id": "f9142b4f-bad7-4b36-bf32-ec0fc3745cfb",
   "metadata": {},
   "outputs": [
    {
     "name": "stdin",
     "output_type": "stream",
     "text": [
      "Enter a number 6\n"
     ]
    },
    {
     "name": "stdout",
     "output_type": "stream",
     "text": [
      "* * * * * * \n",
      "* * * * * \n",
      "* * * * \n",
      "* * * \n",
      "* * \n",
      "* \n"
     ]
    }
   ],
   "source": [
    "# second pattern\n",
    "n = int(input(\"Enter a number\"))\n",
    "i= 1\n",
    "while i  <= n:\n",
    "    j= n\n",
    "    while j >= i:\n",
    "        print(\"*\" ,end=\" \")\n",
    "        j = j - 1\n",
    "    print()\n",
    "    i = i +1"
   ]
  },
  {
   "cell_type": "markdown",
   "id": "c08454d9-943f-46fd-bbeb-436575b38dba",
   "metadata": {},
   "source": [
    "7. Reverse a while loop to display numbers from 10 to 1.\n"
   ]
  },
  {
   "cell_type": "code",
   "execution_count": 16,
   "id": "784fb4ce-34ca-4d2b-a6db-28e49be612f6",
   "metadata": {},
   "outputs": [
    {
     "name": "stdout",
     "output_type": "stream",
     "text": [
      "10\n",
      "9\n",
      "8\n",
      "7\n",
      "6\n",
      "5\n",
      "4\n",
      "3\n",
      "2\n",
      "1\n"
     ]
    }
   ],
   "source": [
    "i = 10\n",
    "while i > 0:\n",
    "    print(i)\n",
    "    i = i-1"
   ]
  },
  {
   "cell_type": "markdown",
   "id": "c61a1527-0eb8-43a6-bb06-f15c8d98b2c6",
   "metadata": {},
   "source": [
    "8. Reverse a while loop to display numbers from 10 to 1."
   ]
  },
  {
   "cell_type": "code",
   "execution_count": 17,
   "id": "877d040e-35a9-4c21-90ff-c3de16c13165",
   "metadata": {},
   "outputs": [
    {
     "name": "stdout",
     "output_type": "stream",
     "text": [
      "10\n",
      "9\n",
      "8\n",
      "7\n",
      "6\n",
      "5\n",
      "4\n",
      "3\n",
      "2\n",
      "1\n"
     ]
    }
   ],
   "source": [
    "i = 10\n",
    "while i > 0:\n",
    "    print(i)\n",
    "    i = i-1"
   ]
  },
  {
   "cell_type": "code",
   "execution_count": null,
   "id": "d3a7fd35-c59f-43ff-a4f9-c3566afcb548",
   "metadata": {},
   "outputs": [],
   "source": []
  }
 ],
 "metadata": {
  "kernelspec": {
   "display_name": "Python 3 (ipykernel)",
   "language": "python",
   "name": "python3"
  },
  "language_info": {
   "codemirror_mode": {
    "name": "ipython",
    "version": 3
   },
   "file_extension": ".py",
   "mimetype": "text/x-python",
   "name": "python",
   "nbconvert_exporter": "python",
   "pygments_lexer": "ipython3",
   "version": "3.10.8"
  }
 },
 "nbformat": 4,
 "nbformat_minor": 5
}
